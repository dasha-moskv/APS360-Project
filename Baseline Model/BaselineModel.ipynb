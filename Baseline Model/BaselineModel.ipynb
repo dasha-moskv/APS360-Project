{
  "cells": [
    {
      "cell_type": "code",
      "execution_count": null,
      "metadata": {
        "colab": {
          "base_uri": "https://localhost:8080/"
        },
        "id": "I2FQZ7Ukj_xn",
        "outputId": "40a0cb62-4ecc-412d-cb32-c15e07abe5a6"
      },
      "outputs": [
        {
          "name": "stdout",
          "output_type": "stream",
          "text": [
            "Mounted at /content/gdrive\n"
          ]
        }
      ],
      "source": [
        "#Importing libraries\n",
        "import numpy as np\n",
        "import time\n",
        "import torch\n",
        "import torch.nn as nn\n",
        "import torch.nn.functional as F\n",
        "import torch.optim as optim\n",
        "import torchvision\n",
        "import torchvision.transforms as transforms\n",
        "from torch.utils.data.sampler import SubsetRandomSampler\n",
        "import torchvision.transforms as transforms\n",
        "import matplotlib.pyplot as plt \n",
        "import os\n",
        "\n",
        "use_cuda = True\n",
        "\n",
        "from google.colab import drive\n",
        "drive.mount('/content/gdrive',force_remount=True)"
      ]
    },
    {
      "cell_type": "code",
      "execution_count": null,
      "metadata": {
        "colab": {
          "base_uri": "https://localhost:8080/"
        },
        "id": "QWzzqc_ykEDH",
        "outputId": "4b083b25-eb3d-4a63-c411-4866515f470c"
      },
      "outputs": [
        {
          "name": "stdout",
          "output_type": "stream",
          "text": [
            "Training set size: 3892\n",
            "Validation set size: 485\n",
            "Testing set size: 489\n"
          ]
        }
      ],
      "source": [
        "#Google drive paths\n",
        "training_set_path = \"/content/gdrive/My Drive/Colab Notebooks/Project/dataset/jpegs/TrainData/\"\n",
        "validation_set_path = \"/content/gdrive/My Drive/Colab Notebooks/Project/dataset/jpegs/ValidData/\"\n",
        "test_set_path = \"/content/gdrive/My Drive/Colab Notebooks/Project/dataset/jpegs/TestData/\"\n",
        "\n",
        "\n",
        "#Loading data\n",
        "transform = transforms.Compose([transforms.Resize((224,224)), \n",
        "                                transforms.ToTensor()])\n",
        "\n",
        "training_set = torchvision.datasets.ImageFolder(training_set_path, transform=transform)\n",
        "validation_set = torchvision.datasets.ImageFolder(validation_set_path, transform=transform)\n",
        "test_set = torchvision.datasets.ImageFolder(test_set_path, transform=transform)\n",
        "\n",
        "#Printing set sizes\n",
        "print (\"Training set size:\", len(training_set))\n",
        "print (\"Validation set size:\", len(validation_set))\n",
        "print (\"Testing set size:\", len(test_set))\n"
      ]
    },
    {
      "cell_type": "code",
      "execution_count": null,
      "metadata": {
        "id": "m7wNn-rWkly5"
      },
      "outputs": [],
      "source": [
        "#Altered LargeNet code from lab 2\n",
        "class LargeNet(nn.Module):\n",
        "    def __init__(self):\n",
        "        super(LargeNet, self).__init__()\n",
        "        self.name = \"LargeNet\"\n",
        "        self.conv1 = nn.Conv2d(3, 5, 5)\n",
        "        self.pool = nn.MaxPool2d(2, 2)\n",
        "        self.conv2 = nn.Conv2d(5, 10, 5)\n",
        "        self.fc1 = nn.Linear(10*53*53, 32) \n",
        "        self.fc2 = nn.Linear(32, 10)\n",
        "\n",
        "    def forward(self, x):\n",
        "        x = self.pool(F.relu(self.conv1(x)))\n",
        "        x = self.pool(F.relu(self.conv2(x)))\n",
        "        x = x.view(-1, 10*53*53) \n",
        "        x = F.relu(self.fc1(x))\n",
        "        x = self.fc2(x)\n",
        "        #Removed Squeeze\n",
        "        return x"
      ]
    },
    {
      "cell_type": "code",
      "execution_count": null,
      "metadata": {
        "id": "_mrT96_uktJt"
      },
      "outputs": [],
      "source": [
        "#Taken from Tut_3b\n",
        "\n",
        "#Define dataloader parameters\n",
        "batch_size = 30\n",
        "num_workers = 1\n",
        "\n",
        "#Prepare data loaders\n",
        "training_set_loader= torch.utils.data.DataLoader(training_set, \n",
        "                                                 batch_size=batch_size, \n",
        "                                                 num_workers=num_workers, \n",
        "                                                 shuffle=True)\n",
        "validation_set_loader= torch.utils.data.DataLoader(validation_set, \n",
        "                                                   batch_size=batch_size, \n",
        "                                                   num_workers=num_workers, \n",
        "                                                   shuffle=True)\n",
        "test_set_loader= torch.utils.data.DataLoader(test_set, \n",
        "                                             batch_size=batch_size, \n",
        "                                             num_workers=num_workers, \n",
        "                                             shuffle=True)"
      ]
    },
    {
      "cell_type": "code",
      "execution_count": null,
      "metadata": {
        "id": "XkFyhvI0ktw9"
      },
      "outputs": [],
      "source": [
        "#Taken from lab2 \n",
        "def get_model_name(name, batch_size, learning_rate, epoch):\n",
        "    \"\"\" Generate a name for the model consisting of all the hyperparameter values\n",
        "\n",
        "    Args:\n",
        "        config: Configuration object containing the hyperparameters\n",
        "    Returns:\n",
        "        path: A string with the hyperparameter name and value concatenated\n",
        "    \"\"\"\n",
        "    path = \"model_{0}_bs{1}_lr{2}_epoch{3}\".format(name,\n",
        "                                                   batch_size,\n",
        "                                                   learning_rate,\n",
        "                                                   epoch)\n",
        "    return path"
      ]
    },
    {
      "cell_type": "code",
      "execution_count": null,
      "metadata": {
        "id": "tItbBGbqk6oF"
      },
      "outputs": [],
      "source": [
        "# 0 = training set\n",
        "# 1 = validation set\n",
        "# 2 = test set \n",
        "\n",
        "#Modified function from Tut_3b\n",
        "def get_accuracy(model, train=1):  \n",
        "  if train == 0:\n",
        "     data_loader = training_set_loader \n",
        "  if train == 1:\n",
        "     data_loader = validation_set_loader\n",
        "  if train == 2:\n",
        "      data_loader = test_set_loader \n",
        "\n",
        "  correct = 0\n",
        "  total = 0\n",
        "  for imgs, labels in data_loader:\n",
        "  \n",
        "        #############################################\n",
        "        #To Enable GPU Usage\n",
        "      if use_cuda and torch.cuda.is_available():\n",
        "        imgs = imgs.cuda()\n",
        "        labels = labels.cuda()\n",
        "        #############################################\n",
        "        \n",
        "      output = model(imgs) #Changed\n",
        "        \n",
        "        #select index with maximum prediction score\n",
        "      pred = output.max(1, keepdim=True)[1]\n",
        "      correct += pred.eq(labels.view_as(pred)).sum().item()\n",
        "      total += imgs.shape[0]\n",
        "  return correct / total"
      ]
    },
    {
      "cell_type": "code",
      "execution_count": null,
      "metadata": {
        "id": "ipDmnpJQk7U-"
      },
      "outputs": [],
      "source": [
        "def train(model, batch_size=64, learning_rate=0.001, num_epochs=200):\n",
        "    print(\"Training started: \")\n",
        "    #Reshuffle Data\n",
        "    train_loader = torch.utils.data.DataLoader(training_set, batch_size=batch_size, shuffle=True)\n",
        "    valid_loader = torch.utils.data.DataLoader(validation_set, batch_size=batch_size, shuffle=True)\n",
        "    \n",
        "    criterion = nn.CrossEntropyLoss()\n",
        "    optimizer = optim.SGD(model.parameters(), lr=learning_rate, momentum=0.9)\n",
        "    \n",
        "    iters, losses, train_acc, val_acc = [], [], [], []\n",
        "\n",
        "    # training\n",
        "    start_time=time.time()\n",
        "    for epoch in range(num_epochs):\n",
        "        #Removed mini batch code\n",
        "        for imgs, labels in iter(train_loader):\n",
        "            #############################################\n",
        "            #To Enable GPU Usage\n",
        "            if use_cuda and torch.cuda.is_available():\n",
        "              imgs = imgs.cuda()\n",
        "              labels = labels.cuda()\n",
        "            #############################################\n",
        "              \n",
        "            out = model(imgs)             # forward pass\n",
        "            loss = criterion(out, labels) # compute the total loss\n",
        "            loss.backward()               # backward pass (compute parameter updates)\n",
        "            optimizer.step()              # make the updates for each parameter\n",
        "            optimizer.zero_grad()         # a clean up step for PyTorch\n",
        "\n",
        "            #Removed mini batch code\n",
        "\n",
        "        # save the current training information\n",
        "        iters.append(epoch)\n",
        "        losses.append(float(loss)/batch_size)             # compute *average* loss\n",
        "        train_acc.append(get_accuracy(model, train=0)) # compute training accuracy\n",
        "        val_acc.append(get_accuracy(model, train=1))  # compute validation accuracy\n",
        "        print((\"Epoch {0}: Train acc: {1} | Train loss: {2} |  Validation acc: {3}\").format(epoch, train_acc[epoch], str(float(loss)) ,val_acc[epoch]))\n",
        "        model_path = get_model_name(model.name, batch_size, learning_rate, epoch)\n",
        "        torch.save(model.state_dict(), model_path)\n",
        "\n",
        "            \n",
        "    end_time= time.time()\n",
        "\n",
        "    # plotting\n",
        "    plt.title(\"Training Curve\")\n",
        "    plt.plot(iters, losses, label=\"Train\")\n",
        "    plt.xlabel(\"Iterations\")\n",
        "    plt.ylabel(\"Loss\")\n",
        "    plt.show()\n",
        "\n",
        "    plt.title(\"Training Curve\")\n",
        "    plt.plot(iters, train_acc, label=\"Training\")\n",
        "    plt.plot(iters, val_acc, label=\"Validation\")    \n",
        "    plt.xlabel(\"Iterations\")\n",
        "    plt.ylabel(\"Validation Accuracy\")\n",
        "    plt.legend(loc='best')\n",
        "    plt.show()\n",
        "\n",
        "\n",
        "    print(\"Final Training Accuracy: {}\".format(train_acc[-1]))\n",
        "    print(\"Final Validation Accuracy: {}\".format(val_acc[-1]))\n",
        "    print (\"Total time:  % 6.2f s  Time per Epoch: % 6.2f s \" % ( (end_time-start_time), ((end_time-start_time) / num_epochs) ))"
      ]
    },
    {
      "cell_type": "code",
      "execution_count": 8,
      "metadata": {
        "colab": {
          "base_uri": "https://localhost:8080/",
          "height": 1000
        },
        "id": "F5BFYHIBlMbo",
        "outputId": "a6623b1a-aeea-4257-a932-ded896f0bc5d"
      },
      "outputs": [
        {
          "output_type": "stream",
          "name": "stdout",
          "text": [
            "Training started: \n",
            "Epoch 0: Train acc: 0.10277492291880781 | Train loss: 2.3031346797943115 |  Validation acc: 0.10309278350515463\n",
            "Epoch 1: Train acc: 0.09969167523124357 | Train loss: 2.2838969230651855 |  Validation acc: 0.10515463917525773\n",
            "Epoch 2: Train acc: 0.0999486125385406 | Train loss: 2.3030378818511963 |  Validation acc: 0.10927835051546392\n",
            "Epoch 3: Train acc: 0.13463514902363824 | Train loss: 2.270504951477051 |  Validation acc: 0.12577319587628866\n",
            "Epoch 4: Train acc: 0.14311408016443988 | Train loss: 2.3422482013702393 |  Validation acc: 0.10309278350515463\n",
            "Epoch 5: Train acc: 0.21891058581706063 | Train loss: 2.11505389213562 |  Validation acc: 0.16082474226804125\n",
            "Epoch 6: Train acc: 0.22713257965056527 | Train loss: 2.1681981086730957 |  Validation acc: 0.2\n",
            "Epoch 7: Train acc: 0.2723535457348407 | Train loss: 2.0693483352661133 |  Validation acc: 0.177319587628866\n",
            "Epoch 8: Train acc: 0.2931654676258993 | Train loss: 2.190051317214966 |  Validation acc: 0.1979381443298969\n",
            "Epoch 9: Train acc: 0.3396711202466598 | Train loss: 2.0375449657440186 |  Validation acc: 0.18969072164948453\n",
            "Epoch 10: Train acc: 0.3311921891058582 | Train loss: 1.8481485843658447 |  Validation acc: 0.21443298969072164\n",
            "Epoch 11: Train acc: 0.3830935251798561 | Train loss: 1.9665706157684326 |  Validation acc: 0.22474226804123712\n",
            "Epoch 12: Train acc: 0.4362795477903392 | Train loss: 2.0081331729888916 |  Validation acc: 0.24123711340206186\n",
            "Epoch 13: Train acc: 0.46736896197327854 | Train loss: 1.1053751707077026 |  Validation acc: 0.22061855670103092\n",
            "Epoch 14: Train acc: 0.5339157245632066 | Train loss: 1.5938050746917725 |  Validation acc: 0.20412371134020618\n",
            "Epoch 15: Train acc: 0.5611510791366906 | Train loss: 1.590922474861145 |  Validation acc: 0.21443298969072164\n",
            "Epoch 16: Train acc: 0.6199897225077081 | Train loss: 1.244356632232666 |  Validation acc: 0.21237113402061855\n",
            "Epoch 17: Train acc: 0.6762589928057554 | Train loss: 1.2989963293075562 |  Validation acc: 0.24536082474226803\n",
            "Epoch 18: Train acc: 0.7332990750256937 | Train loss: 1.0238020420074463 |  Validation acc: 0.22474226804123712\n",
            "Epoch 19: Train acc: 0.7710688591983555 | Train loss: 0.7610057592391968 |  Validation acc: 0.21443298969072164\n",
            "Epoch 20: Train acc: 0.8103802672147996 | Train loss: 0.7278804779052734 |  Validation acc: 0.21855670103092784\n",
            "Epoch 21: Train acc: 0.8355601233299075 | Train loss: 0.6484915018081665 |  Validation acc: 0.1979381443298969\n",
            "Epoch 22: Train acc: 0.8602261048304214 | Train loss: 0.45214399695396423 |  Validation acc: 0.21649484536082475\n",
            "Epoch 23: Train acc: 0.854830421377184 | Train loss: 0.2674107253551483 |  Validation acc: 0.19175257731958764\n",
            "Epoch 24: Train acc: 0.8730729701952723 | Train loss: 0.3479897975921631 |  Validation acc: 0.24123711340206186\n",
            "Epoch 25: Train acc: 0.8720452209660843 | Train loss: 0.310468852519989 |  Validation acc: 0.2329896907216495\n",
            "Epoch 26: Train acc: 0.8887461459403906 | Train loss: 0.22031834721565247 |  Validation acc: 0.23917525773195877\n",
            "Epoch 27: Train acc: 0.894141829393628 | Train loss: 0.12816940248012543 |  Validation acc: 0.23917525773195877\n",
            "Epoch 28: Train acc: 0.8949126413155191 | Train loss: 0.05888998508453369 |  Validation acc: 0.21443298969072164\n",
            "Epoch 29: Train acc: 0.89568345323741 | Train loss: 0.2694638967514038 |  Validation acc: 0.23711340206185566\n",
            "Epoch 30: Train acc: 0.89568345323741 | Train loss: 0.19909128546714783 |  Validation acc: 0.21855670103092784\n",
            "Epoch 31: Train acc: 0.89568345323741 | Train loss: 0.06518928706645966 |  Validation acc: 0.20412371134020618\n",
            "Epoch 32: Train acc: 0.8964542651593012 | Train loss: 0.13543574512004852 |  Validation acc: 0.21443298969072164\n",
            "Epoch 33: Train acc: 0.8967112024665982 | Train loss: 0.07096920162439346 |  Validation acc: 0.2329896907216495\n",
            "Epoch 34: Train acc: 0.8967112024665982 | Train loss: 0.2381935566663742 |  Validation acc: 0.22268041237113403\n",
            "Epoch 35: Train acc: 0.8969681397738952 | Train loss: 0.09521280229091644 |  Validation acc: 0.24329896907216494\n",
            "Epoch 36: Train acc: 0.8969681397738952 | Train loss: 0.12864887714385986 |  Validation acc: 0.24123711340206186\n",
            "Epoch 37: Train acc: 0.8969681397738952 | Train loss: 0.16677388548851013 |  Validation acc: 0.2288659793814433\n",
            "Epoch 38: Train acc: 0.8969681397738952 | Train loss: 0.18654195964336395 |  Validation acc: 0.24123711340206186\n",
            "Epoch 39: Train acc: 0.8969681397738952 | Train loss: 0.05110939219594002 |  Validation acc: 0.22061855670103092\n",
            "Epoch 40: Train acc: 0.8969681397738952 | Train loss: 0.14341673254966736 |  Validation acc: 0.2329896907216495\n",
            "Epoch 41: Train acc: 0.8969681397738952 | Train loss: 0.2743016183376312 |  Validation acc: 0.23917525773195877\n",
            "Epoch 42: Train acc: 0.8969681397738952 | Train loss: 0.250572144985199 |  Validation acc: 0.22268041237113403\n",
            "Epoch 43: Train acc: 0.8969681397738952 | Train loss: 0.1818409413099289 |  Validation acc: 0.22474226804123712\n",
            "Epoch 44: Train acc: 0.8969681397738952 | Train loss: 0.08132907003164291 |  Validation acc: 0.24123711340206186\n",
            "Epoch 45: Train acc: 0.8969681397738952 | Train loss: 0.15434204041957855 |  Validation acc: 0.21443298969072164\n",
            "Epoch 46: Train acc: 0.8969681397738952 | Train loss: 0.1158139705657959 |  Validation acc: 0.23505154639175257\n",
            "Epoch 47: Train acc: 0.8969681397738952 | Train loss: 0.2244703322649002 |  Validation acc: 0.21649484536082475\n",
            "Epoch 48: Train acc: 0.8969681397738952 | Train loss: 0.05907783657312393 |  Validation acc: 0.21649484536082475\n",
            "Epoch 49: Train acc: 0.8969681397738952 | Train loss: 0.24166591465473175 |  Validation acc: 0.23505154639175257\n",
            "Epoch 50: Train acc: 0.8969681397738952 | Train loss: 0.32010141015052795 |  Validation acc: 0.24123711340206186\n",
            "Epoch 51: Train acc: 0.8969681397738952 | Train loss: 0.18842431902885437 |  Validation acc: 0.23505154639175257\n",
            "Epoch 52: Train acc: 0.8969681397738952 | Train loss: 0.14440582692623138 |  Validation acc: 0.21443298969072164\n",
            "Epoch 53: Train acc: 0.8969681397738952 | Train loss: 0.14035555720329285 |  Validation acc: 0.23505154639175257\n",
            "Epoch 54: Train acc: 0.8969681397738952 | Train loss: 0.23169250786304474 |  Validation acc: 0.24742268041237114\n",
            "Epoch 55: Train acc: 0.8969681397738952 | Train loss: 0.15498687326908112 |  Validation acc: 0.2329896907216495\n",
            "Epoch 56: Train acc: 0.8969681397738952 | Train loss: 0.23044440150260925 |  Validation acc: 0.2288659793814433\n",
            "Epoch 57: Train acc: 0.8969681397738952 | Train loss: 0.12789683043956757 |  Validation acc: 0.2268041237113402\n",
            "Epoch 58: Train acc: 0.8969681397738952 | Train loss: 0.13792766630649567 |  Validation acc: 0.21030927835051547\n",
            "Epoch 59: Train acc: 0.8969681397738952 | Train loss: 0.11537730693817139 |  Validation acc: 0.22474226804123712\n",
            "Epoch 60: Train acc: 0.8969681397738952 | Train loss: 0.2884316146373749 |  Validation acc: 0.23711340206185566\n",
            "Epoch 61: Train acc: 0.8969681397738952 | Train loss: 0.13135017454624176 |  Validation acc: 0.24536082474226803\n",
            "Epoch 62: Train acc: 0.8969681397738952 | Train loss: 0.2654837369918823 |  Validation acc: 0.23917525773195877\n",
            "Epoch 63: Train acc: 0.8969681397738952 | Train loss: 0.17853032052516937 |  Validation acc: 0.2597938144329897\n",
            "Epoch 64: Train acc: 0.8969681397738952 | Train loss: 0.2658892273902893 |  Validation acc: 0.23917525773195877\n",
            "Epoch 65: Train acc: 0.8969681397738952 | Train loss: 0.1726619005203247 |  Validation acc: 0.22474226804123712\n",
            "Epoch 66: Train acc: 0.8969681397738952 | Train loss: 0.14817366003990173 |  Validation acc: 0.21030927835051547\n",
            "Epoch 67: Train acc: 0.8969681397738952 | Train loss: 0.08987303823232651 |  Validation acc: 0.22268041237113403\n",
            "Epoch 68: Train acc: 0.8969681397738952 | Train loss: 0.29776763916015625 |  Validation acc: 0.2268041237113402\n",
            "Epoch 69: Train acc: 0.8969681397738952 | Train loss: 0.06538558006286621 |  Validation acc: 0.21649484536082475\n",
            "Epoch 70: Train acc: 0.8969681397738952 | Train loss: 0.11718033254146576 |  Validation acc: 0.2329896907216495\n",
            "Epoch 71: Train acc: 0.8969681397738952 | Train loss: 0.1324661672115326 |  Validation acc: 0.2288659793814433\n",
            "Epoch 72: Train acc: 0.8969681397738952 | Train loss: 0.16247449815273285 |  Validation acc: 0.24536082474226803\n",
            "Epoch 73: Train acc: 0.8969681397738952 | Train loss: 0.13278773427009583 |  Validation acc: 0.21237113402061855\n",
            "Epoch 74: Train acc: 0.8969681397738952 | Train loss: 0.10182969272136688 |  Validation acc: 0.23917525773195877\n",
            "Epoch 75: Train acc: 0.8969681397738952 | Train loss: 0.05345575883984566 |  Validation acc: 0.22268041237113403\n",
            "Epoch 76: Train acc: 0.8969681397738952 | Train loss: 0.25692179799079895 |  Validation acc: 0.24123711340206186\n",
            "Epoch 77: Train acc: 0.8969681397738952 | Train loss: 0.23526379466056824 |  Validation acc: 0.2288659793814433\n",
            "Epoch 78: Train acc: 0.8969681397738952 | Train loss: 0.0784175843000412 |  Validation acc: 0.23711340206185566\n",
            "Epoch 79: Train acc: 0.8969681397738952 | Train loss: 0.13110148906707764 |  Validation acc: 0.23505154639175257\n",
            "Epoch 80: Train acc: 0.8969681397738952 | Train loss: 0.16927525401115417 |  Validation acc: 0.24329896907216494\n",
            "Epoch 81: Train acc: 0.8969681397738952 | Train loss: 0.20031006634235382 |  Validation acc: 0.24536082474226803\n",
            "Epoch 82: Train acc: 0.8972250770811921 | Train loss: 0.19454191625118256 |  Validation acc: 0.24948453608247423\n",
            "Epoch 83: Train acc: 0.8972250770811921 | Train loss: 0.19858284294605255 |  Validation acc: 0.24536082474226803\n",
            "Epoch 84: Train acc: 0.8972250770811921 | Train loss: 0.10298015922307968 |  Validation acc: 0.24329896907216494\n",
            "Epoch 85: Train acc: 0.8972250770811921 | Train loss: 0.15907810628414154 |  Validation acc: 0.23917525773195877\n",
            "Epoch 86: Train acc: 0.8972250770811921 | Train loss: 0.11756624281406403 |  Validation acc: 0.22474226804123712\n",
            "Epoch 87: Train acc: 0.8972250770811921 | Train loss: 0.14922156929969788 |  Validation acc: 0.24123711340206186\n",
            "Epoch 88: Train acc: 0.8972250770811921 | Train loss: 0.11301817744970322 |  Validation acc: 0.21649484536082475\n",
            "Epoch 89: Train acc: 0.8972250770811921 | Train loss: 0.17347383499145508 |  Validation acc: 0.23917525773195877\n",
            "Epoch 90: Train acc: 0.8972250770811921 | Train loss: 0.20363521575927734 |  Validation acc: 0.24742268041237114\n",
            "Epoch 91: Train acc: 0.8972250770811921 | Train loss: 0.19681072235107422 |  Validation acc: 0.24123711340206186\n",
            "Epoch 92: Train acc: 0.8972250770811921 | Train loss: 0.17069873213768005 |  Validation acc: 0.24329896907216494\n",
            "Epoch 93: Train acc: 0.8972250770811921 | Train loss: 0.33520063757896423 |  Validation acc: 0.2288659793814433\n",
            "Epoch 94: Train acc: 0.8972250770811921 | Train loss: 0.07198227941989899 |  Validation acc: 0.24123711340206186\n",
            "Epoch 95: Train acc: 0.8972250770811921 | Train loss: 0.2080041617155075 |  Validation acc: 0.2288659793814433\n",
            "Epoch 96: Train acc: 0.8972250770811921 | Train loss: 0.19420361518859863 |  Validation acc: 0.2329896907216495\n",
            "Epoch 97: Train acc: 0.8972250770811921 | Train loss: 0.11174508184194565 |  Validation acc: 0.2329896907216495\n",
            "Epoch 98: Train acc: 0.8972250770811921 | Train loss: 0.13304895162582397 |  Validation acc: 0.2309278350515464\n",
            "Epoch 99: Train acc: 0.8972250770811921 | Train loss: 0.2672145962715149 |  Validation acc: 0.2268041237113402\n"
          ]
        },
        {
          "output_type": "display_data",
          "data": {
            "text/plain": [
              "<Figure size 432x288 with 1 Axes>"
            ],
            "image/png": "[encoded data removed]"
          },
          "metadata": {
            "needs_background": "light"
          }
        },
        {
          "output_type": "display_data",
          "data": {
            "text/plain": [
              "<Figure size 432x288 with 1 Axes>"
            ],
            "image/png": "[encoded data removed]"
          },
          "metadata": {
            "needs_background": "light"
          }
        },
        {
          "output_type": "stream",
          "name": "stdout",
          "text": [
            "Final Training Accuracy: 0.8972250770811921\n",
            "Final Validation Accuracy: 0.2268041237113402\n",
            "Total time:   10056.02 s  Time per Epoch:  100.56 s \n"
          ]
        }
      ],
      "source": [
        "model = LargeNet()\n",
        "train(model, batch_size=32, learning_rate=0.004, num_epochs=100)"
      ]
    },
    {
      "cell_type": "code",
      "execution_count": 9,
      "metadata": {
        "id": "5jmgDhBB8zUQ",
        "colab": {
          "base_uri": "https://localhost:8080/"
        },
        "outputId": "1cb78438-1f8c-4d8d-8d58-7f9d796d3128"
      },
      "outputs": [
        {
          "output_type": "stream",
          "name": "stdout",
          "text": [
            "Test Accuracy is:  0.2147239263803681\n"
          ]
        }
      ],
      "source": [
        "print(\"Test Accuracy is: \", get_accuracy(model, train=2))"
      ]
    }
  ],
  "metadata": {
    "colab": {
      "collapsed_sections": [],
      "name": "BaselineModel.ipynb",
      "provenance": []
    },
    "kernelspec": {
      "display_name": "Python 3",
      "name": "python3"
    },
    "language_info": {
      "name": "python"
    }
  },
  "nbformat": 4,
  "nbformat_minor": 0
}