{
 "cells": [
  {
   "cell_type": "code",
   "execution_count": 1,
   "metadata": {},
   "outputs": [],
   "source": [
    "import os"
   ]
  },
  {
   "cell_type": "code",
   "execution_count": 2,
   "metadata": {},
   "outputs": [
    {
     "name": "stdout",
     "output_type": "stream",
     "text": [
      "Arabic: deleted 45041 clips\n",
      "English: deleted 280600 clips\n",
      "French: deleted 54833 clips\n",
      "Hindi: deleted 3897 clips\n",
      "Indonesian: deleted 24827 clips\n",
      "Japanese: deleted 2103 clips\n",
      "Mandarin-CN: deleted 0 clips\n",
      "Portuguese: deleted 15638 clips\n",
      "Russian: deleted 21587 clips\n",
      "Spanish: deleted 239292 clips\n"
     ]
    }
   ],
   "source": [
    "# English\n",
    "# Mandarin\n",
    "# Hindi\n",
    "# Spanish\n",
    "# French\n",
    "# Arabic\n",
    "# Bengali\n",
    "# Russian\n",
    "# Portuguese\n",
    "# Indonesian\n",
    "\n",
    "path = \"./Raw Data\"\n",
    "for language in os.listdir(path):\n",
    "    valid_dict = {}\n",
    "    valid_path = path + \"/\" + language + \"/validated.tsv\"\n",
    "    f = open(valid_path, \"r\", errors=\"replace\")\n",
    "\n",
    "    # Skip first line\n",
    "    i = 0 \n",
    "    for line in f:\n",
    "        if i == 1:\n",
    "            line_split = line.split(\"\\t\")\n",
    "            valid_dict.update({line_split[1] : 1})\n",
    "        i = 1\n",
    "    \n",
    "    files_path = path + \"/\" + language + \"/clips/\"\n",
    "    deleted = 0\n",
    "\n",
    "    for file in os.listdir(files_path):\n",
    "        if file not in valid_dict:\n",
    "            os.remove(files_path + file)\n",
    "            deleted += 1\n",
    "    print(\"{}: deleted {} clips\".format(language, deleted))"
   ]
  }
 ],
 "metadata": {
  "interpreter": {
   "hash": "ec1a336df9fba3041f08a61c6dba434bfeb892ed282192da8275e26e334ba3eb"
  },
  "kernelspec": {
   "display_name": "Python 3.10.1 64-bit",
   "language": "python",
   "name": "python3"
  },
  "language_info": {
   "codemirror_mode": {
    "name": "ipython",
    "version": 3
   },
   "file_extension": ".py",
   "mimetype": "text/x-python",
   "name": "python",
   "nbconvert_exporter": "python",
   "pygments_lexer": "ipython3",
   "version": "3.10.1"
  },
  "orig_nbformat": 4
 },
 "nbformat": 4,
 "nbformat_minor": 2
}
