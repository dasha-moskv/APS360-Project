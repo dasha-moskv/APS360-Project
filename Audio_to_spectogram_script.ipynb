{
  "cells": [
    {
      "cell_type": "code",
      "execution_count": 2,
      "metadata": {
        "colab": {
          "base_uri": "https://localhost:8080/"
        },
        "id": "KzvaazCwcUWD",
        "outputId": "4ddea4ed-af01-4a64-d4a3-90d18f9017a9"
      },
      "outputs": [
        {
          "name": "stdout",
          "output_type": "stream",
          "text": [
            "Mounted at /content/gdrive\n"
          ]
        }
      ],
      "source": [
        "#Mount drive\n",
        "#from google.colab import drive\n",
        "#drive.mount('/content/gdrive',force_remount=True)"
      ]
    },
    {
      "cell_type": "code",
      "execution_count": 2,
      "metadata": {
        "colab": {
          "base_uri": "https://localhost:8080/",
          "height": 1000
        },
        "id": "2QMdnIuOK5ls",
        "outputId": "702fb4cc-2a55-4cb1-a47f-12eb50b05033"
      },
      "outputs": [
        {
          "data": {
            "text/plain": [
              "\"\\naudio, sample = load_audio_file(path1)\\nwaveshow(audio, sr=sample)\\nplt.title('Raw Audio File')\\n#plt.show()\\n\\naudio_fixed = change_to_10_s(audio, sample)\\nwaveshow(audio_fixed, sr=sr)\\nplt.title('Raw Audio File fixed')\\n#plt.show()\\n\\n\\nspectro = spectrogram(audio_fixed,sr)\\nspectro = to_png(spectro)\\n#spectro = librosa.display.specshow(audio_fixed, sr=sr)\\n#spectro.savefig('test.png')\\n\\nplt.imshow(spectro, origin='lower', aspect='auto')\\nplt.title('Spectrogram')\\nplt.show()\\nprint(spectro.shape) #for now the shape is arbitrary, we need to make it so it's consistent throughout all data\\n\""
            ]
          },
          "execution_count": 2,
          "metadata": {},
          "output_type": "execute_result"
        }
      ],
      "source": [
        "#Data processing code\n",
        "#Codes are taken inspiration from Towards AI source [7] in project proposal\n",
        "#to download mp3 files from tatoeba, use https://audio.tatoeba.org/sentences/{lang}/{id}.mp3\n",
        "\n",
        "import os\n",
        "import numpy as np\n",
        "import librosa\n",
        "from librosa.display import waveshow\n",
        "from pyparsing import srange\n",
        "import soundfile\n",
        "#import imageio\n",
        "import matplotlib\n",
        "import matplotlib.pyplot as plt\n",
        "from torch import fmax\n",
        "\n",
        "\n",
        "sr = 10000 #arbitrary, most english phonemes are 3kHz of bandwidth\n",
        "\n",
        "#chose so we could use alexnet.features and makes things easier\n",
        "image_width = 224\n",
        "image_height = 224\n",
        "\n",
        "def add_noise(audio_file, gain):\n",
        "    num_samples = audio_file.shape[0]\n",
        "    noise = gain*np.random.normal(size=num_samples)\n",
        "    return audio_file + noise\n",
        "\n",
        "#for some reason, this only works with .wav files\n",
        "def load_audio_file(path):\n",
        "    audio_file, sample_rate = librosa.load(path)\n",
        "    return audio_file, sample_rate\n",
        "\n",
        "def change_to_10_s(audio_file, sample_rate):\n",
        "    target_len = 10*sample_rate\n",
        "    audio_file = np.concatenate([audio_file]*10, axis = 0)\n",
        "    audio_file = audio_file[0:target_len]\n",
        "    return audio_file\n",
        "\n",
        "#ignore the warnings when it does melspectrogram\n",
        "def spectrogram(audio_file, sample_rate):\n",
        "    #compute Mel-scaled spectrogram image\n",
        "    #print(audio_file.shape)\n",
        "    \n",
        "    spec = librosa.feature.melspectrogram(audio_file, sr=sample_rate, n_mels=image_height)\n",
        "    image = librosa.core.power_to_db(spec) #log image\n",
        "    #convert to np matrix\n",
        "    image_np = np.asmatrix(image)\n",
        "\n",
        "    #normalize and scale\n",
        "    image_np_scaled_temp = (image_np - np.min(image_np))\n",
        "    image_np_scaled = image_np_scaled_temp/np.max(image_np_scaled_temp)\n",
        "    return image_np_scaled[:, 0:image_width]\n",
        "\n",
        "def to_png(image_float):\n",
        "    #range (0,1) to (0,255)\n",
        "    image_float_255 = image_float*255.0\n",
        "    image_int = image_float_255.astype(np.uint8)\n",
        "    \n",
        "    return image_int\n",
        "    \n",
        "def augment_audio_file(source_path):\n",
        "    audio_segment, sample_rate = load_audio_file(source_path)\n",
        "    audio_segment_with_noise = add_noise(audio_segment, 0.005)\n",
        "    path = os.path.splitext(source_path)[0] + '_augmented_noise.wav'\n",
        "    soundfile.write(path, audio_segment_with_noise, sample_rate)\n",
        "\n",
        "def audio_to_image(audio_file, sample_rate, destination_folder):\n",
        "    image_file = destination_folder + '.png'\n",
        "    audio, sample_rate = load_audio_file(audio_file)\n",
        "    audio_fixed = change_to_10_s(audio, sample_rate)\n",
        "    if np.count_nonzero(audio_fixed) != 0:\n",
        "        spectro = spectrogram(audio_fixed, sr)\n",
        "        spectro_img = to_png(spectro)\n",
        "        print(\"Image scales: \", spectro_img.shape)\n",
        "        #spectro_tuple = (spectro_img,spectro_img,spectro_img)\n",
        "        #spectro_RGB = np.vstack(spectro_tuple)\n",
        "        #imageio.imwrite(image_file, spectro_RGB)\n",
        "        matplotlib.image.imsave(image_file, spectro_img)\n",
        "        return spectro_img\n",
        "    \n",
        "###Testing###\n",
        "#Manually change path\n",
        "path = 'Languages/'\n",
        "for language in os.listdir(path):\n",
        "    folder = path + language + '/' + language + '_Clips/'\n",
        "    '''\n",
        "    for filename in (os.listdir(folder)):\n",
        "    path1 = f\"{folder}/{filename}\"  \n",
        "    augment_audio_file(path1)\n",
        "    '''\n",
        "    destination_folder = path + language + '/' + language + '_Spectrograms/'\n",
        "    for filename in (os.listdir(folder)):\n",
        "        if filename.endswith('.mp3'):\n",
        "            path2 = f\"{folder}/{filename}\"  \n",
        "            audio_to_image(path2, sr,destination_folder)\n",
        "\n",
        "\n",
        "#spectro = audio_to_image(path2, sr, './Languages/English/test')\n",
        "\n",
        "#augment a sample .wav file\n",
        "#path1 = './Languages/English_audio/English_test_file.wav'\n",
        "#augment_audio_file(path)\n",
        "\n",
        "#convert to spectrogram\n",
        "#path2 = './Languages/English_audio/English_test_file_augmented_noise.wav'\n",
        "#audio_to_image(path, './Languages/English/test')\n",
        "\n",
        "\n",
        "\n",
        "\n",
        "'''\n",
        "audio, sample = load_audio_file(path1)\n",
        "waveshow(audio, sr=sample)\n",
        "plt.title('Raw Audio File')\n",
        "#plt.show()\n",
        "\n",
        "audio_fixed = change_to_10_s(audio, sample)\n",
        "waveshow(audio_fixed, sr=sr)\n",
        "plt.title('Raw Audio File fixed')\n",
        "#plt.show()\n",
        "\n",
        "\n",
        "spectro = spectrogram(audio_fixed,sr)\n",
        "spectro = to_png(spectro)\n",
        "#spectro = librosa.display.specshow(audio_fixed, sr=sr)\n",
        "#spectro.savefig('test.png')\n",
        "\n",
        "plt.imshow(spectro, origin='lower', aspect='auto')\n",
        "plt.title('Spectrogram')\n",
        "plt.show()\n",
        "print(spectro.shape) #for now the shape is arbitrary, we need to make it so it's consistent throughout all data\n",
        "'''\n",
        "#spectro = audio_to_image(path2, sr, './Languages/English/test')\n"
      ]
    }
  ],
  "metadata": {
    "colab": {
      "collapsed_sections": [],
      "name": "Audio_to_spectogram_script.ipynb",
      "provenance": []
    },
    "kernelspec": {
      "display_name": "Python 3",
      "name": "python3"
    },
    "language_info": {
      "codemirror_mode": {
        "name": "ipython",
        "version": 3
      },
      "file_extension": ".py",
      "mimetype": "text/x-python",
      "name": "python",
      "nbconvert_exporter": "python",
      "pygments_lexer": "ipython3",
      "version": "3.9.10"
    }
  },
  "nbformat": 4,
  "nbformat_minor": 0
}
