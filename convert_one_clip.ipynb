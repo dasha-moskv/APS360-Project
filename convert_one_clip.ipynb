{
 "cells": [
  {
   "cell_type": "code",
   "execution_count": 1,
   "metadata": {},
   "outputs": [],
   "source": [
    "import sys\n",
    "import librosa\n",
    "from librosa.display import waveshow\n",
    "import numpy as np\n",
    "import matplotlib.pyplot as plt\n",
    "\n",
    "import warnings\n",
    "warnings.simplefilter(\"ignore\")"
   ]
  },
  {
   "cell_type": "code",
   "execution_count": 2,
   "metadata": {},
   "outputs": [],
   "source": [
    "def extend_10s(audio_file, sample_rate):\n",
    "    target_len = 10*sample_rate\n",
    "    audio_file = np.concatenate([audio_file]*10, axis = 0)\n",
    "    audio_file = audio_file[0:target_len]\n",
    "    return audio_file\n",
    "\n",
    "def mfcc_png(audio_path, save_path):\n",
    "    y, sr = librosa.load(audio_path, sr=8000)\n",
    "    spec = librosa.feature.melspectrogram(y=extend_10s(y, sr), sr=sr, n_mels=128)\n",
    "    fig = plt.Figure()\n",
    "    ax = plt.Axes(fig, [0., 0., 1., 1.])\n",
    "    ax.set_axis_off()\n",
    "    fig.add_axes(ax)\n",
    "    p = librosa.display.specshow(librosa.power_to_db(spec, ref=np.max), ax=ax, x_axis=\"time\", y_axis=\"mel\", fmax=8000)\n",
    "    fig.savefig(save_path)"
   ]
  },
  {
   "cell_type": "code",
   "execution_count": 15,
   "metadata": {},
   "outputs": [],
   "source": [
    "# Set the clip_path and save_path here then run the below cell\n",
    "clip_path = \"./Testing/alex.mp3\"\n",
    "save_path = \"./Testing/alex.png\""
   ]
  },
  {
   "cell_type": "code",
   "execution_count": 16,
   "metadata": {},
   "outputs": [],
   "source": [
    "mfcc_png(clip_path, save_path)"
   ]
  }
 ],
 "metadata": {
  "interpreter": {
   "hash": "ec1a336df9fba3041f08a61c6dba434bfeb892ed282192da8275e26e334ba3eb"
  },
  "kernelspec": {
   "display_name": "Python 3.10.1 64-bit",
   "language": "python",
   "name": "python3"
  },
  "language_info": {
   "codemirror_mode": {
    "name": "ipython",
    "version": 3
   },
   "file_extension": ".py",
   "mimetype": "text/x-python",
   "name": "python",
   "nbconvert_exporter": "python",
   "pygments_lexer": "ipython3",
   "version": "3.10.1"
  },
  "orig_nbformat": 4
 },
 "nbformat": 4,
 "nbformat_minor": 2
}
