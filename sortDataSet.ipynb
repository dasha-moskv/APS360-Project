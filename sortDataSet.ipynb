{
 "cells": [
  {
   "cell_type": "code",
   "execution_count": 3,
   "metadata": {},
   "outputs": [],
   "source": [
    "import imageio as iio\n",
    "import os\n",
    "import matplotlib.pyplot as plt"
   ]
  },
  {
   "cell_type": "code",
   "execution_count": 4,
   "metadata": {},
   "outputs": [],
   "source": [
    "source_path = 'Languages'\n",
    "train_path = 'dataset/TrainData/'\n",
    "val_path = 'dataset/ValidData/'\n",
    "test_path = 'dataset/TestData/'"
   ]
  },
  {
   "cell_type": "code",
   "execution_count": 6,
   "metadata": {},
   "outputs": [],
   "source": [
    "for file in os.listdir(source_path):\n",
    "    n = 0\n",
    "    lang_name = file\n",
    "    image_folder_path = source_path + '/' + lang_name + '/'+ lang_name + '_Spectrograms/'\n",
    "    \n",
    "    number_of_images = len(os.listdir(image_folder_path))\n",
    "    train_num = int(0.8*number_of_images)\n",
    "    val_num = int(0.1*number_of_images) + train_num\n",
    "    \n",
    "    for images_name in os.listdir(image_folder_path):\n",
    "        \n",
    "        img = iio.imread(image_folder_path + images_name)\n",
    "        \n",
    "        if n < train_num:\n",
    "            folder_name = train_path + lang_name\n",
    "    \n",
    "        elif n >= train_num and n < val_num:\n",
    "            folder_name = val_path + lang_name\n",
    "        \n",
    "        else:\n",
    "            folder_name = test_path + lang_name\n",
    "            \n",
    "        if not os.path.isdir(folder_name):\n",
    "            os.mkdir(folder_name)\n",
    "        \n",
    "        image_name = str(n) + '_' + lang_name + '.png'\n",
    "        \n",
    "        iio.imwrite(folder_name + '/' + image_name, img)\n",
    "        n+=1"
   ]
  }
 ],
 "metadata": {
  "interpreter": {
   "hash": "665ae034104ad7e590537aba2db2bff9dd6ad17aaa8b0473628b6cd4f289ba41"
  },
  "kernelspec": {
   "display_name": "Python 3.9.10 64-bit",
   "language": "python",
   "name": "python3"
  },
  "language_info": {
   "codemirror_mode": {
    "name": "ipython",
    "version": 3
   },
   "file_extension": ".py",
   "mimetype": "text/x-python",
   "name": "python",
   "nbconvert_exporter": "python",
   "pygments_lexer": "ipython3",
   "version": "3.9.10"
  },
  "orig_nbformat": 4
 },
 "nbformat": 4,
 "nbformat_minor": 2
}
