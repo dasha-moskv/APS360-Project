{
  "cells": [
    {
      "cell_type": "code",
      "execution_count": 49,
      "metadata": {
        "id": "1UB6XmOrsZtp"
      },
      "outputs": [],
      "source": [
        "import os\n",
        "import numpy as np\n",
        "import librosa\n",
        "from librosa.display import waveshow\n",
        "from pyparsing import srange\n",
        "import soundfile\n",
        "import matplotlib\n",
        "import matplotlib.pyplot as plt\n",
        "import IPython.display as ipd\n",
        "\n",
        "import warnings\n",
        "warnings.simplefilter(\"ignore\")"
      ]
    },
    {
      "cell_type": "code",
      "execution_count": 4,
      "metadata": {
        "colab": {
          "base_uri": "https://localhost:8080/"
        },
        "id": "1QC6MT6IsJpR",
        "outputId": "a3db7709-be13-45bd-9d5b-66605dc4c727"
      },
      "outputs": [
        {
          "name": "stdout",
          "output_type": "stream",
          "text": [
            "Mounted at /content/drive\n"
          ]
        }
      ],
      "source": [
        "# Dataset in google drive\n",
        "# from google.colab import drive\n",
        "# drive.mount('/content/drive')"
      ]
    },
    {
      "cell_type": "code",
      "execution_count": null,
      "metadata": {
        "colab": {
          "base_uri": "https://localhost:8080/"
        },
        "id": "Vh84WaXvtjqg",
        "outputId": "f40d32ae-b65c-4c48-c3e9-1546f52dd8f5"
      },
      "outputs": [
        {
          "name": "stdout",
          "output_type": "stream",
          "text": [
            "--- Arabic ---\n",
            "Arabic: 100\n",
            "Arabic: 200\n",
            "Arabic: 300\n",
            "Arabic: 400\n",
            "Arabic: 500\n",
            "Arabic: 600\n",
            "Arabic: 700\n",
            "Arabic: 800\n",
            "Arabic: 900\n",
            "Arabic: 1000\n",
            "Arabic: 1100\n",
            "Arabic: 1200\n",
            "Arabic: 1300\n",
            "Arabic: 1400\n",
            "Arabic: 1500\n",
            "Arabic: 1600\n",
            "Arabic: 1700\n",
            "Arabic: 1800\n"
          ]
        }
      ],
      "source": [
        "def extend_10s(audio_file, sample_rate):\n",
        "    target_len = 10*sample_rate\n",
        "    audio_file = np.concatenate([audio_file]*10, axis = 0)\n",
        "    audio_file = audio_file[0:target_len]\n",
        "    return audio_file\n",
        "\n",
        "def extend_10s_with_noise(audio_file, sample_rate):\n",
        "    num_samples = audio_file.shape[0]\n",
        "    noise = 0.005*np.random.normal(size=num_samples)\n",
        "    audio_file = audio_file + noise\n",
        "    target_len = 10*sample_rate\n",
        "    audio_file = np.concatenate([audio_file]*10, axis = 0)\n",
        "    audio_file = audio_file[0:target_len]\n",
        "    return audio_file\n",
        "\n",
        "def mfcc_png(audio_path, save_path):\n",
        "    y, sr = librosa.load(audio_path, sr=8000)\n",
        "    spec = librosa.feature.melspectrogram(y=extend_10s(y, sr), sr=sr, n_mels=128)\n",
        "    fig = plt.Figure()\n",
        "    ax = plt.Axes(fig, [0., 0., 1., 1.])\n",
        "    ax.set_axis_off()\n",
        "    fig.add_axes(ax)\n",
        "    p = librosa.display.specshow(librosa.power_to_db(spec, ref=np.max), ax=ax, x_axis=\"time\", y_axis=\"mel\", fmax=8000)\n",
        "    fig.savefig(save_path)\n",
        "\n",
        "path = \"/content/drive/MyDrive/Colab Notebooks/APS360/Project/Data/\"\n",
        "for language in os.listdir(path):\n",
        "    if language != \"Arabic\":\n",
        "        continue\n",
        "    print(\"--- {} ---\".format(language))\n",
        "    lang_path = path + language + \"/\"\n",
        "    mfccs_path = \"/content/drive/MyDrive/Colab Notebooks/APS360/Project/IMData/\" + language\n",
        "    clips_path = lang_path + \"clips/\"\n",
        "    i = 0\n",
        "    for clip in os.listdir(clips_path):\n",
        "        mfcc_png(clips_path + clip, mfccs_path + \"/\" + str(i) + \".png\")\n",
        "        i += 1\n",
        "        if i % 100 == 0:\n",
        "            print(\"{}: {}\".format(language, i))\n",
        "\n",
        "\n",
        "# test_path = path + \"English/clips/common_voice_en_10.mp3\"\n",
        "# x, sr = librosa.load(test_path)\n",
        "\n",
        "# mfccs = librosa.feature.mfcc(y=extend_10s(x, sr), sr=sr)\n",
        "# fig = plt.Figure()\n",
        "# ax = plt.Axes(fig, [0., 0., 1., 1.])\n",
        "# ax.set_axis_off()\n",
        "# fig.add_axes(ax)\n",
        "# p = librosa.display.specshow(mfccs, ax=ax)\n",
        "# fig.savefig(\"spec.png\")\n",
        "\n",
        "\n",
        "# print(mfccs.shape)\n",
        "# print(mfccs)\n",
        "# plt.imshow(mfccs)\n",
        "\n",
        "# Source for saving a bare image:\n",
        "# https://stackoverflow.com/questions/9295026/matplotlib-plots-removing-axis-legends-and-white-spaces\n",
        "\n",
        "# Source for learning how to save the MFCC plot:\n",
        "# https://stackoverflow.com/questions/52432731/store-the-spectrogram-as-image-in-python"
      ]
    }
  ],
  "metadata": {
    "colab": {
      "collapsed_sections": [],
      "name": "mel_convert.ipynb",
      "provenance": []
    },
    "kernelspec": {
      "display_name": "Python 3",
      "name": "python3"
    },
    "language_info": {
      "name": "python"
    }
  },
  "nbformat": 4,
  "nbformat_minor": 0
}
